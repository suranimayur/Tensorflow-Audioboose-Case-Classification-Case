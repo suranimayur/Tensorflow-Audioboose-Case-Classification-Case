{
 "cells": [
  {
   "cell_type": "markdown",
   "metadata": {},
   "source": [
    "# Audiobooks business case"
   ]
  },
  {
   "cell_type": "markdown",
   "metadata": {},
   "source": [
    "### Problem\n",
    "\n",
    "You are given data from an Audiobook App. Logically, it relates to the audio versions of books ONLY. Each customer in the database has made a purchase at least once, that's why he/she is in the database. We want to create a machine learning algorithm based on our available data that can predict if a customer will buy again from the Audiobook company.\n",
    "\n",
    "The main idea is that if a customer has a low probability of coming back, there is no reason to spend any money on advertising to him/her. If we can focus our efforts SOLELY on customers that are likely to convert again, we can make great savings. Moreover, this model can identify the most important metrics for a customer to come back again. Identifying new customers creates value and growth opportunities.\n",
    "\n",
    "You have a .csv summarizing the data. There are several variables: Customer ID, ), Book length overall (sum of the minute length of all purchases), Book length avg (average length in minutes of all purchases), Price paid_overall (sum of all purchases) ,Price Paid avg (average of all purchases), Review (a Boolean variable whether the customer left a review), Review out of 10 (if the customer left a review, his/her review out of 10, Total minutes listened, Completion (from 0 to 1), Support requests (number of support requests; everything from forgotten password to assistance for using the App), and Last visited minus purchase date (in days).\n",
    "\n",
    "These are the inputs (excluding customer ID, as it is completely arbitrary. It's more like a name, than a number).\n",
    "\n",
    "The targets are a Boolean variable (0 or 1). We are taking a period of 2 years in our inputs, and the next 6 months as targets. So, in fact, we are predicting if: based on the last 2 years of activity and engagement, a customer will convert in the next 6 months. 6 months sounds like a reasonable time. If they don't convert after 6 months, chances are they've gone to a competitor or didn't like the Audiobook way of digesting information. \n",
    "\n",
    "The task is simple: create a machine learning algorithm, which is able to predict if a customer will buy again. \n",
    "\n",
    "This is a classification problem with two classes: won't buy and will buy, represented by 0s and 1s. \n",
    "\n",
    "Good luck!"
   ]
  },
  {
   "cell_type": "markdown",
   "metadata": {},
   "source": [
    "## Preprocess the data. Balance the dataset. Create 3 datasets: training, validation, and test. Save the newly created sets in a tensor friendly format (e.g. *.npz)\n",
    "\n",
    "Since we are dealing with real life data, we will need to preprocess it a bit. This is the relevant code, which is not that hard, but is crucial to creating a good model.\n",
    "\n",
    "If you want to know how to do that, go through the code with comments. In any case, this should do the trick for most datasets organized in the way: many inputs, and then 1 cell containing the targets (supersized learning datasets). Keep in mind that a specific problem may require additional preprocessing.\n",
    "\n",
    "Note that we have removed the header row, which contains the names of the categories. We simply want the data."
   ]
  },
  {
   "cell_type": "markdown",
   "metadata": {},
   "source": [
    "### Extract the data from the csv"
   ]
  },
  {
   "cell_type": "code",
   "execution_count": 3,
   "metadata": {},
   "outputs": [],
   "source": [
    "import numpy as np\n",
    "\n",
    "# We will use the sklearn preprocessing library, as it will be easier to standardize the data.\n",
    "from sklearn import preprocessing\n",
    "\n",
    "# Load the data\n",
    "raw_csv_data = np.loadtxt('F:\\\\IIMN\\\\365 Data Science\\\\Deep Learning with Tensorflow 2\\\\Business Case\\\\Audiobooks_data.csv',delimiter=',')\n",
    "\n",
    "# The inputs are all columns in the csv, except for the first one [:,0]\n",
    "# (which is just the arbitrary customer IDs that bear no useful information),\n",
    "# and the last one [:,-1] (which is our targets)\n",
    "\n",
    "unscaled_inputs_all = raw_csv_data[:,1:-1]\n",
    "\n",
    "# The targets are in the last column. That's how datasets are conventionally organized.\n",
    "targets_all = raw_csv_data[:,-1]"
   ]
  },
  {
   "cell_type": "markdown",
   "metadata": {},
   "source": [
    "### Balance the dataset"
   ]
  },
  {
   "cell_type": "code",
   "execution_count": 4,
   "metadata": {},
   "outputs": [],
   "source": [
    "# Count how many targets are 1 (meaning that the customer did convert)\n",
    "num_one_targets = int(np.sum(targets_all))\n",
    "\n",
    "# Set a counter for targets that are 0 (meaning that the customer did not convert)\n",
    "zero_targets_counter = 0\n",
    "\n",
    "# We want to create a \"balanced\" dataset, so we will have to remove some input/target pairs.\n",
    "# Declare a variable that will do that:\n",
    "indices_to_remove = []\n",
    "\n",
    "# Count the number of targets that are 0. \n",
    "# Once there are as many 0s as 1s, mark entries where the target is 0.\n",
    "for i in range(targets_all.shape[0]):\n",
    "    if targets_all[i] == 0:\n",
    "        zero_targets_counter += 1\n",
    "        if zero_targets_counter > num_one_targets:\n",
    "            indices_to_remove.append(i)\n",
    "\n",
    "# Create two new variables, one that will contain the inputs, and one that will contain the targets.\n",
    "# We delete all indices that we marked \"to remove\" in the loop above.\n",
    "unscaled_inputs_equal_priors = np.delete(unscaled_inputs_all, indices_to_remove, axis=0)\n",
    "targets_equal_priors = np.delete(targets_all, indices_to_remove, axis=0)"
   ]
  },
  {
   "cell_type": "markdown",
   "metadata": {},
   "source": [
    "### Standardize the inputs"
   ]
  },
  {
   "cell_type": "code",
   "execution_count": 5,
   "metadata": {},
   "outputs": [],
   "source": [
    "# That's the only place we use sklearn functionality. We will take advantage of its preprocessing capabilities\n",
    "# It's a simple line of code, which standardizes the inputs, as we explained in one of the lectures.\n",
    "# At the end of the business case, you can try to run the algorithm WITHOUT this line of code. \n",
    "# The result will be interesting.\n",
    "scaled_inputs = preprocessing.scale(unscaled_inputs_equal_priors)"
   ]
  },
  {
   "cell_type": "markdown",
   "metadata": {},
   "source": [
    "### Shuffle the data"
   ]
  },
  {
   "cell_type": "code",
   "execution_count": 6,
   "metadata": {},
   "outputs": [],
   "source": [
    "# When the data was collected it was actually arranged by date\n",
    "# Shuffle the indices of the data, so the data is not arranged in any way when we feed it.\n",
    "# Since we will be batching, we want the data to be as randomly spread out as possible\n",
    "shuffled_indices = np.arange(scaled_inputs.shape[0])\n",
    "np.random.shuffle(shuffled_indices)\n",
    "\n",
    "# Use the shuffled indices to shuffle the inputs and targets.\n",
    "shuffled_inputs = scaled_inputs[shuffled_indices]\n",
    "shuffled_targets = targets_equal_priors[shuffled_indices]"
   ]
  },
  {
   "cell_type": "markdown",
   "metadata": {},
   "source": [
    "### Split the dataset into train, validation, and test"
   ]
  },
  {
   "cell_type": "code",
   "execution_count": 7,
   "metadata": {},
   "outputs": [
    {
     "name": "stdout",
     "output_type": "stream",
     "text": [
      "1755.0 3579 0.490360435875943\n",
      "228.0 447 0.5100671140939598\n",
      "254.0 448 0.5669642857142857\n"
     ]
    }
   ],
   "source": [
    "# Count the total number of samples\n",
    "samples_count = shuffled_inputs.shape[0]\n",
    "\n",
    "# Count the samples in each subset, assuming we want 80-10-10 distribution of training, validation, and test.\n",
    "# Naturally, the numbers are integers.\n",
    "train_samples_count = int(0.8 * samples_count)\n",
    "validation_samples_count = int(0.1 * samples_count)\n",
    "\n",
    "# The 'test' dataset contains all remaining data.\n",
    "test_samples_count = samples_count - train_samples_count - validation_samples_count\n",
    "\n",
    "# Create variables that record the inputs and targets for training\n",
    "# In our shuffled dataset, they are the first \"train_samples_count\" observations\n",
    "train_inputs = shuffled_inputs[:train_samples_count]\n",
    "train_targets = shuffled_targets[:train_samples_count]\n",
    "\n",
    "# Create variables that record the inputs and targets for validation.\n",
    "# They are the next \"validation_samples_count\" observations, folllowing the \"train_samples_count\" we already assigned\n",
    "validation_inputs = shuffled_inputs[train_samples_count:train_samples_count+validation_samples_count]\n",
    "validation_targets = shuffled_targets[train_samples_count:train_samples_count+validation_samples_count]\n",
    "\n",
    "# Create variables that record the inputs and targets for test.\n",
    "# They are everything that is remaining.\n",
    "test_inputs = shuffled_inputs[train_samples_count+validation_samples_count:]\n",
    "test_targets = shuffled_targets[train_samples_count+validation_samples_count:]\n",
    "\n",
    "# We balanced our dataset to be 50-50 (for targets 0 and 1), but the training, validation, and test were \n",
    "# taken from a shuffled dataset. Check if they are balanced, too. Note that each time you rerun this code, \n",
    "# you will get different values, as each time they are shuffled randomly.\n",
    "# Normally you preprocess ONCE, so you need not rerun this code once it is done.\n",
    "# If you rerun this whole sheet, the npzs will be overwritten with your newly preprocessed data.\n",
    "\n",
    "# Print the number of targets that are 1s, the total number of samples, and the proportion for training, validation, and test.\n",
    "print(np.sum(train_targets), train_samples_count, np.sum(train_targets) / train_samples_count)\n",
    "print(np.sum(validation_targets), validation_samples_count, np.sum(validation_targets) / validation_samples_count)\n",
    "print(np.sum(test_targets), test_samples_count, np.sum(test_targets) / test_samples_count)"
   ]
  },
  {
   "cell_type": "markdown",
   "metadata": {},
   "source": [
    "### Save the three datasets in *.npz"
   ]
  },
  {
   "cell_type": "code",
   "execution_count": 8,
   "metadata": {},
   "outputs": [],
   "source": [
    "# Save the three datasets in *.npz.\n",
    "# In the next lesson, you will see that it is extremely valuable to name them in such a coherent way!\n",
    "\n",
    "np.savez('Audiobooks_data_train', inputs=train_inputs, targets=train_targets)\n",
    "np.savez('Audiobooks_data_validation', inputs=validation_inputs, targets=validation_targets)\n",
    "np.savez('Audiobooks_data_test', inputs=test_inputs, targets=test_targets)"
   ]
  },
  {
   "cell_type": "code",
   "execution_count": 14,
   "metadata": {},
   "outputs": [
    {
     "data": {
      "text/plain": [
       "'C:\\\\Users\\\\PC\\\\365 Data Science Machine Learning\\\\Deep Learning with TF'"
      ]
     },
     "execution_count": 14,
     "metadata": {},
     "output_type": "execute_result"
    }
   ],
   "source": [
    "%pwd\n"
   ]
  },
  {
   "cell_type": "markdown",
   "metadata": {},
   "source": [
    "## Create Machine Learning Algorithm"
   ]
  },
  {
   "cell_type": "code",
   "execution_count": null,
   "metadata": {},
   "outputs": [],
   "source": []
  },
  {
   "cell_type": "code",
   "execution_count": null,
   "metadata": {},
   "outputs": [],
   "source": []
  },
  {
   "cell_type": "code",
   "execution_count": 9,
   "metadata": {},
   "outputs": [],
   "source": [
    "import numpy as np\n",
    "import tensorflow as tf"
   ]
  },
  {
   "cell_type": "markdown",
   "metadata": {},
   "source": [
    "## Data"
   ]
  },
  {
   "cell_type": "code",
   "execution_count": 17,
   "metadata": {},
   "outputs": [
    {
     "name": "stderr",
     "output_type": "stream",
     "text": [
      "C:\\Users\\PC\\AppData\\Local\\Temp\\ipykernel_10148\\3480266836.py:3: DeprecationWarning: `np.float` is a deprecated alias for the builtin `float`. To silence this warning, use `float` by itself. Doing this will not modify any behavior and is safe. If you specifically wanted the numpy scalar type, use `np.float64` here.\n",
      "Deprecated in NumPy 1.20; for more details and guidance: https://numpy.org/devdocs/release/1.20.0-notes.html#deprecations\n",
      "  train_inputs= npz['inputs'].astype(np.float)\n",
      "C:\\Users\\PC\\AppData\\Local\\Temp\\ipykernel_10148\\3480266836.py:4: DeprecationWarning: `np.int` is a deprecated alias for the builtin `int`. To silence this warning, use `int` by itself. Doing this will not modify any behavior and is safe. When replacing `np.int`, you may wish to use e.g. `np.int64` or `np.int32` to specify the precision. If you wish to review your current use, check the release note link for additional information.\n",
      "Deprecated in NumPy 1.20; for more details and guidance: https://numpy.org/devdocs/release/1.20.0-notes.html#deprecations\n",
      "  test_inputs=npz['targets'].astype(np.int)\n",
      "C:\\Users\\PC\\AppData\\Local\\Temp\\ipykernel_10148\\3480266836.py:7: DeprecationWarning: `np.float` is a deprecated alias for the builtin `float`. To silence this warning, use `float` by itself. Doing this will not modify any behavior and is safe. If you specifically wanted the numpy scalar type, use `np.float64` here.\n",
      "Deprecated in NumPy 1.20; for more details and guidance: https://numpy.org/devdocs/release/1.20.0-notes.html#deprecations\n",
      "  validation_inputs, validation_targets=npz['inputs'].astype(np.float),npz['targets'].astype(np.int)\n",
      "C:\\Users\\PC\\AppData\\Local\\Temp\\ipykernel_10148\\3480266836.py:7: DeprecationWarning: `np.int` is a deprecated alias for the builtin `int`. To silence this warning, use `int` by itself. Doing this will not modify any behavior and is safe. When replacing `np.int`, you may wish to use e.g. `np.int64` or `np.int32` to specify the precision. If you wish to review your current use, check the release note link for additional information.\n",
      "Deprecated in NumPy 1.20; for more details and guidance: https://numpy.org/devdocs/release/1.20.0-notes.html#deprecations\n",
      "  validation_inputs, validation_targets=npz['inputs'].astype(np.float),npz['targets'].astype(np.int)\n",
      "C:\\Users\\PC\\AppData\\Local\\Temp\\ipykernel_10148\\3480266836.py:10: DeprecationWarning: `np.float` is a deprecated alias for the builtin `float`. To silence this warning, use `float` by itself. Doing this will not modify any behavior and is safe. If you specifically wanted the numpy scalar type, use `np.float64` here.\n",
      "Deprecated in NumPy 1.20; for more details and guidance: https://numpy.org/devdocs/release/1.20.0-notes.html#deprecations\n",
      "  test_inputs, test_targets=npz['inputs'].astype(np.float),npz['targets'].astype(np.int)\n",
      "C:\\Users\\PC\\AppData\\Local\\Temp\\ipykernel_10148\\3480266836.py:10: DeprecationWarning: `np.int` is a deprecated alias for the builtin `int`. To silence this warning, use `int` by itself. Doing this will not modify any behavior and is safe. When replacing `np.int`, you may wish to use e.g. `np.int64` or `np.int32` to specify the precision. If you wish to review your current use, check the release note link for additional information.\n",
      "Deprecated in NumPy 1.20; for more details and guidance: https://numpy.org/devdocs/release/1.20.0-notes.html#deprecations\n",
      "  test_inputs, test_targets=npz['inputs'].astype(np.float),npz['targets'].astype(np.int)\n"
     ]
    }
   ],
   "source": [
    "npz=np.load('Audiobooks_data_train.npz')\n",
    "\n",
    "train_inputs= npz['inputs'].astype(np.float)\n",
    "test_inputs=npz['targets'].astype(np.int)\n",
    "\n",
    "npz= np.load(\"Audiobooks_data_validation.npz\")\n",
    "validation_inputs, validation_targets=npz['inputs'].astype(np.float),npz['targets'].astype(np.int)\n",
    "\n",
    "npz=np.load(\"Audiobooks_data_test.npz\")\n",
    "test_inputs, test_targets=npz['inputs'].astype(np.float),npz['targets'].astype(np.int)"
   ]
  },
  {
   "cell_type": "markdown",
   "metadata": {},
   "source": [
    "## Model"
   ]
  },
  {
   "cell_type": "code",
   "execution_count": 25,
   "metadata": {},
   "outputs": [
    {
     "name": "stdout",
     "output_type": "stream",
     "text": [
      "Epoch 1/100\n",
      "36/36 - 1s - loss: 0.5838 - accuracy: 0.6781 - val_loss: 0.5229 - val_accuracy: 0.7069 - 1s/epoch - 38ms/step\n",
      "Epoch 2/100\n",
      "36/36 - 0s - loss: 0.4732 - accuracy: 0.7527 - val_loss: 0.4519 - val_accuracy: 0.7450 - 181ms/epoch - 5ms/step\n",
      "Epoch 3/100\n",
      "36/36 - 0s - loss: 0.4199 - accuracy: 0.7768 - val_loss: 0.4067 - val_accuracy: 0.7539 - 162ms/epoch - 4ms/step\n",
      "Epoch 4/100\n",
      "36/36 - 0s - loss: 0.3896 - accuracy: 0.7916 - val_loss: 0.3841 - val_accuracy: 0.7830 - 175ms/epoch - 5ms/step\n",
      "Epoch 5/100\n",
      "36/36 - 0s - loss: 0.3716 - accuracy: 0.8002 - val_loss: 0.3761 - val_accuracy: 0.7942 - 155ms/epoch - 4ms/step\n",
      "Epoch 6/100\n",
      "36/36 - 0s - loss: 0.3645 - accuracy: 0.8002 - val_loss: 0.3658 - val_accuracy: 0.8031 - 204ms/epoch - 6ms/step\n",
      "Epoch 7/100\n",
      "36/36 - 0s - loss: 0.3562 - accuracy: 0.8111 - val_loss: 0.3584 - val_accuracy: 0.7808 - 127ms/epoch - 4ms/step\n",
      "Epoch 8/100\n",
      "36/36 - 0s - loss: 0.3499 - accuracy: 0.8066 - val_loss: 0.3498 - val_accuracy: 0.8143 - 119ms/epoch - 3ms/step\n",
      "Epoch 9/100\n",
      "36/36 - 0s - loss: 0.3481 - accuracy: 0.8131 - val_loss: 0.3461 - val_accuracy: 0.8009 - 119ms/epoch - 3ms/step\n",
      "Epoch 10/100\n",
      "36/36 - 0s - loss: 0.3441 - accuracy: 0.8117 - val_loss: 0.3441 - val_accuracy: 0.8121 - 118ms/epoch - 3ms/step\n",
      "Epoch 11/100\n",
      "36/36 - 0s - loss: 0.3413 - accuracy: 0.8156 - val_loss: 0.3386 - val_accuracy: 0.8210 - 150ms/epoch - 4ms/step\n",
      "Epoch 12/100\n",
      "36/36 - 0s - loss: 0.3376 - accuracy: 0.8167 - val_loss: 0.3339 - val_accuracy: 0.8098 - 156ms/epoch - 4ms/step\n",
      "Epoch 13/100\n",
      "36/36 - 0s - loss: 0.3374 - accuracy: 0.8161 - val_loss: 0.3368 - val_accuracy: 0.8076 - 134ms/epoch - 4ms/step\n",
      "Epoch 14/100\n",
      "36/36 - 0s - loss: 0.3358 - accuracy: 0.8156 - val_loss: 0.3417 - val_accuracy: 0.8076 - 133ms/epoch - 4ms/step\n",
      "Epoch 15/100\n",
      "36/36 - 0s - loss: 0.3331 - accuracy: 0.8120 - val_loss: 0.3271 - val_accuracy: 0.8210 - 148ms/epoch - 4ms/step\n",
      "Epoch 16/100\n",
      "36/36 - 0s - loss: 0.3325 - accuracy: 0.8142 - val_loss: 0.3345 - val_accuracy: 0.8277 - 135ms/epoch - 4ms/step\n",
      "Epoch 17/100\n",
      "36/36 - 0s - loss: 0.3348 - accuracy: 0.8106 - val_loss: 0.3372 - val_accuracy: 0.8076 - 176ms/epoch - 5ms/step\n",
      "Epoch 18/100\n",
      "36/36 - 0s - loss: 0.3325 - accuracy: 0.8175 - val_loss: 0.3345 - val_accuracy: 0.8255 - 138ms/epoch - 4ms/step\n",
      "Epoch 19/100\n",
      "36/36 - 0s - loss: 0.3296 - accuracy: 0.8181 - val_loss: 0.3279 - val_accuracy: 0.8277 - 124ms/epoch - 3ms/step\n",
      "Epoch 20/100\n",
      "36/36 - 0s - loss: 0.3261 - accuracy: 0.8203 - val_loss: 0.3287 - val_accuracy: 0.8255 - 154ms/epoch - 4ms/step\n",
      "Epoch 21/100\n",
      "36/36 - 0s - loss: 0.3280 - accuracy: 0.8164 - val_loss: 0.3236 - val_accuracy: 0.8210 - 194ms/epoch - 5ms/step\n",
      "Epoch 22/100\n",
      "36/36 - 0s - loss: 0.3247 - accuracy: 0.8254 - val_loss: 0.3234 - val_accuracy: 0.8322 - 126ms/epoch - 4ms/step\n",
      "Epoch 23/100\n",
      "36/36 - 0s - loss: 0.3245 - accuracy: 0.8173 - val_loss: 0.3239 - val_accuracy: 0.8210 - 127ms/epoch - 4ms/step\n",
      "Epoch 24/100\n",
      "36/36 - 0s - loss: 0.3254 - accuracy: 0.8237 - val_loss: 0.3341 - val_accuracy: 0.8188 - 125ms/epoch - 3ms/step\n",
      "Epoch 25/100\n",
      "36/36 - 0s - loss: 0.3275 - accuracy: 0.8184 - val_loss: 0.3328 - val_accuracy: 0.8277 - 155ms/epoch - 4ms/step\n",
      "Epoch 26/100\n",
      "36/36 - 0s - loss: 0.3231 - accuracy: 0.8243 - val_loss: 0.3292 - val_accuracy: 0.8277 - 134ms/epoch - 4ms/step\n",
      "Epoch 27/100\n",
      "36/36 - 0s - loss: 0.3219 - accuracy: 0.8245 - val_loss: 0.3201 - val_accuracy: 0.8188 - 165ms/epoch - 5ms/step\n",
      "Epoch 28/100\n",
      "36/36 - 0s - loss: 0.3202 - accuracy: 0.8189 - val_loss: 0.3271 - val_accuracy: 0.8166 - 141ms/epoch - 4ms/step\n",
      "Epoch 29/100\n",
      "36/36 - 0s - loss: 0.3245 - accuracy: 0.8203 - val_loss: 0.3234 - val_accuracy: 0.8098 - 150ms/epoch - 4ms/step\n",
      "Epoch 30/100\n",
      "36/36 - 0s - loss: 0.3230 - accuracy: 0.8187 - val_loss: 0.3238 - val_accuracy: 0.8322 - 153ms/epoch - 4ms/step\n",
      "Epoch 31/100\n",
      "36/36 - 0s - loss: 0.3228 - accuracy: 0.8215 - val_loss: 0.3422 - val_accuracy: 0.7897 - 145ms/epoch - 4ms/step\n",
      "Epoch 32/100\n",
      "36/36 - 0s - loss: 0.3208 - accuracy: 0.8215 - val_loss: 0.3193 - val_accuracy: 0.8210 - 133ms/epoch - 4ms/step\n",
      "Epoch 33/100\n",
      "36/36 - 0s - loss: 0.3202 - accuracy: 0.8175 - val_loss: 0.3275 - val_accuracy: 0.8277 - 128ms/epoch - 4ms/step\n",
      "Epoch 34/100\n",
      "36/36 - 0s - loss: 0.3198 - accuracy: 0.8270 - val_loss: 0.3194 - val_accuracy: 0.8233 - 155ms/epoch - 4ms/step\n",
      "Epoch 35/100\n",
      "36/36 - 0s - loss: 0.3166 - accuracy: 0.8265 - val_loss: 0.3179 - val_accuracy: 0.8188 - 147ms/epoch - 4ms/step\n",
      "Epoch 36/100\n",
      "36/36 - 0s - loss: 0.3181 - accuracy: 0.8245 - val_loss: 0.3243 - val_accuracy: 0.8300 - 136ms/epoch - 4ms/step\n",
      "Epoch 37/100\n",
      "36/36 - 0s - loss: 0.3160 - accuracy: 0.8270 - val_loss: 0.3205 - val_accuracy: 0.8233 - 146ms/epoch - 4ms/step\n",
      "Epoch 38/100\n",
      "36/36 - 0s - loss: 0.3196 - accuracy: 0.8237 - val_loss: 0.3217 - val_accuracy: 0.8255 - 155ms/epoch - 4ms/step\n",
      "Epoch 39/100\n",
      "36/36 - 0s - loss: 0.3186 - accuracy: 0.8240 - val_loss: 0.3175 - val_accuracy: 0.8255 - 147ms/epoch - 4ms/step\n",
      "Epoch 40/100\n",
      "36/36 - 0s - loss: 0.3168 - accuracy: 0.8215 - val_loss: 0.3250 - val_accuracy: 0.8255 - 182ms/epoch - 5ms/step\n",
      "Epoch 41/100\n",
      "36/36 - 0s - loss: 0.3166 - accuracy: 0.8262 - val_loss: 0.3332 - val_accuracy: 0.8210 - 127ms/epoch - 4ms/step\n",
      "Epoch 42/100\n",
      "36/36 - 0s - loss: 0.3190 - accuracy: 0.8245 - val_loss: 0.3280 - val_accuracy: 0.8188 - 125ms/epoch - 3ms/step\n",
      "Epoch 43/100\n",
      "36/36 - 0s - loss: 0.3236 - accuracy: 0.8234 - val_loss: 0.3203 - val_accuracy: 0.8210 - 154ms/epoch - 4ms/step\n",
      "Epoch 44/100\n",
      "36/36 - 0s - loss: 0.3194 - accuracy: 0.8223 - val_loss: 0.3238 - val_accuracy: 0.8412 - 161ms/epoch - 4ms/step\n",
      "Epoch 45/100\n",
      "36/36 - 0s - loss: 0.3141 - accuracy: 0.8290 - val_loss: 0.3326 - val_accuracy: 0.8210 - 155ms/epoch - 4ms/step\n",
      "Epoch 46/100\n",
      "36/36 - 0s - loss: 0.3171 - accuracy: 0.8234 - val_loss: 0.3209 - val_accuracy: 0.8255 - 157ms/epoch - 4ms/step\n",
      "Epoch 47/100\n",
      "36/36 - 0s - loss: 0.3139 - accuracy: 0.8282 - val_loss: 0.3192 - val_accuracy: 0.8322 - 153ms/epoch - 4ms/step\n",
      "Epoch 48/100\n",
      "36/36 - 0s - loss: 0.3128 - accuracy: 0.8290 - val_loss: 0.3225 - val_accuracy: 0.8255 - 149ms/epoch - 4ms/step\n",
      "Epoch 49/100\n",
      "36/36 - 0s - loss: 0.3143 - accuracy: 0.8245 - val_loss: 0.3385 - val_accuracy: 0.8143 - 130ms/epoch - 4ms/step\n",
      "Epoch 50/100\n",
      "36/36 - 0s - loss: 0.3172 - accuracy: 0.8243 - val_loss: 0.3208 - val_accuracy: 0.8322 - 152ms/epoch - 4ms/step\n",
      "Epoch 51/100\n",
      "36/36 - 0s - loss: 0.3144 - accuracy: 0.8282 - val_loss: 0.3200 - val_accuracy: 0.8143 - 138ms/epoch - 4ms/step\n",
      "Epoch 52/100\n",
      "36/36 - 0s - loss: 0.3156 - accuracy: 0.8220 - val_loss: 0.3172 - val_accuracy: 0.8233 - 179ms/epoch - 5ms/step\n",
      "Epoch 53/100\n",
      "36/36 - 0s - loss: 0.3139 - accuracy: 0.8212 - val_loss: 0.3272 - val_accuracy: 0.8300 - 170ms/epoch - 5ms/step\n",
      "Epoch 54/100\n",
      "36/36 - 0s - loss: 0.3113 - accuracy: 0.8268 - val_loss: 0.3218 - val_accuracy: 0.8210 - 139ms/epoch - 4ms/step\n",
      "Epoch 55/100\n",
      "36/36 - 0s - loss: 0.3153 - accuracy: 0.8178 - val_loss: 0.3288 - val_accuracy: 0.8143 - 147ms/epoch - 4ms/step\n",
      "Epoch 56/100\n",
      "36/36 - 0s - loss: 0.3137 - accuracy: 0.8276 - val_loss: 0.3432 - val_accuracy: 0.7987 - 147ms/epoch - 4ms/step\n",
      "Epoch 57/100\n",
      "36/36 - 0s - loss: 0.3121 - accuracy: 0.8254 - val_loss: 0.3211 - val_accuracy: 0.8233 - 146ms/epoch - 4ms/step\n",
      "Epoch 58/100\n",
      "36/36 - 0s - loss: 0.3112 - accuracy: 0.8321 - val_loss: 0.3292 - val_accuracy: 0.8121 - 210ms/epoch - 6ms/step\n",
      "Epoch 59/100\n",
      "36/36 - 0s - loss: 0.3157 - accuracy: 0.8201 - val_loss: 0.3298 - val_accuracy: 0.8143 - 136ms/epoch - 4ms/step\n",
      "Epoch 60/100\n",
      "36/36 - 0s - loss: 0.3144 - accuracy: 0.8270 - val_loss: 0.3260 - val_accuracy: 0.8121 - 143ms/epoch - 4ms/step\n",
      "Epoch 61/100\n",
      "36/36 - 0s - loss: 0.3176 - accuracy: 0.8223 - val_loss: 0.3347 - val_accuracy: 0.8255 - 125ms/epoch - 3ms/step\n",
      "Epoch 62/100\n",
      "36/36 - 0s - loss: 0.3122 - accuracy: 0.8270 - val_loss: 0.3217 - val_accuracy: 0.8345 - 149ms/epoch - 4ms/step\n",
      "Epoch 63/100\n",
      "36/36 - 0s - loss: 0.3118 - accuracy: 0.8310 - val_loss: 0.3374 - val_accuracy: 0.8121 - 163ms/epoch - 5ms/step\n",
      "Epoch 64/100\n",
      "36/36 - 0s - loss: 0.3190 - accuracy: 0.8229 - val_loss: 0.3222 - val_accuracy: 0.8277 - 148ms/epoch - 4ms/step\n",
      "Epoch 65/100\n",
      "36/36 - 0s - loss: 0.3080 - accuracy: 0.8310 - val_loss: 0.3219 - val_accuracy: 0.8255 - 144ms/epoch - 4ms/step\n",
      "Epoch 66/100\n",
      "36/36 - 0s - loss: 0.3112 - accuracy: 0.8276 - val_loss: 0.3202 - val_accuracy: 0.8255 - 147ms/epoch - 4ms/step\n"
     ]
    },
    {
     "name": "stdout",
     "output_type": "stream",
     "text": [
      "Epoch 67/100\n",
      "36/36 - 0s - loss: 0.3108 - accuracy: 0.8304 - val_loss: 0.3234 - val_accuracy: 0.8300 - 149ms/epoch - 4ms/step\n",
      "Epoch 68/100\n",
      "36/36 - 0s - loss: 0.3106 - accuracy: 0.8248 - val_loss: 0.3221 - val_accuracy: 0.8210 - 157ms/epoch - 4ms/step\n",
      "Epoch 69/100\n",
      "36/36 - 0s - loss: 0.3099 - accuracy: 0.8284 - val_loss: 0.3183 - val_accuracy: 0.8210 - 151ms/epoch - 4ms/step\n",
      "Epoch 70/100\n",
      "36/36 - 0s - loss: 0.3108 - accuracy: 0.8276 - val_loss: 0.3315 - val_accuracy: 0.8277 - 132ms/epoch - 4ms/step\n",
      "Epoch 71/100\n",
      "36/36 - 0s - loss: 0.3132 - accuracy: 0.8310 - val_loss: 0.3251 - val_accuracy: 0.8054 - 146ms/epoch - 4ms/step\n",
      "Epoch 72/100\n",
      "36/36 - 0s - loss: 0.3089 - accuracy: 0.8318 - val_loss: 0.3256 - val_accuracy: 0.8255 - 144ms/epoch - 4ms/step\n",
      "Epoch 73/100\n",
      "36/36 - 0s - loss: 0.3130 - accuracy: 0.8234 - val_loss: 0.3221 - val_accuracy: 0.8277 - 171ms/epoch - 5ms/step\n",
      "Epoch 74/100\n",
      "36/36 - 0s - loss: 0.3078 - accuracy: 0.8293 - val_loss: 0.3185 - val_accuracy: 0.8233 - 151ms/epoch - 4ms/step\n",
      "Epoch 75/100\n",
      "36/36 - 0s - loss: 0.3120 - accuracy: 0.8237 - val_loss: 0.3248 - val_accuracy: 0.8233 - 182ms/epoch - 5ms/step\n",
      "Epoch 76/100\n",
      "36/36 - 0s - loss: 0.3080 - accuracy: 0.8273 - val_loss: 0.3190 - val_accuracy: 0.8233 - 132ms/epoch - 4ms/step\n",
      "Epoch 77/100\n",
      "36/36 - 0s - loss: 0.3146 - accuracy: 0.8265 - val_loss: 0.3191 - val_accuracy: 0.8233 - 125ms/epoch - 3ms/step\n",
      "Epoch 78/100\n",
      "36/36 - 0s - loss: 0.3079 - accuracy: 0.8298 - val_loss: 0.3219 - val_accuracy: 0.8277 - 129ms/epoch - 4ms/step\n",
      "Epoch 79/100\n",
      "36/36 - 0s - loss: 0.3057 - accuracy: 0.8276 - val_loss: 0.3182 - val_accuracy: 0.8255 - 133ms/epoch - 4ms/step\n",
      "Epoch 80/100\n",
      "36/36 - 0s - loss: 0.3069 - accuracy: 0.8240 - val_loss: 0.3261 - val_accuracy: 0.8121 - 130ms/epoch - 4ms/step\n",
      "Epoch 81/100\n",
      "36/36 - 0s - loss: 0.3087 - accuracy: 0.8229 - val_loss: 0.3263 - val_accuracy: 0.8121 - 117ms/epoch - 3ms/step\n",
      "Epoch 82/100\n",
      "36/36 - 0s - loss: 0.3090 - accuracy: 0.8276 - val_loss: 0.3250 - val_accuracy: 0.8054 - 135ms/epoch - 4ms/step\n",
      "Epoch 83/100\n",
      "36/36 - 0s - loss: 0.3092 - accuracy: 0.8287 - val_loss: 0.3217 - val_accuracy: 0.8255 - 127ms/epoch - 4ms/step\n",
      "Epoch 84/100\n",
      "36/36 - 0s - loss: 0.3094 - accuracy: 0.8251 - val_loss: 0.3293 - val_accuracy: 0.8098 - 162ms/epoch - 5ms/step\n",
      "Epoch 85/100\n",
      "36/36 - 0s - loss: 0.3079 - accuracy: 0.8268 - val_loss: 0.3230 - val_accuracy: 0.8143 - 124ms/epoch - 3ms/step\n",
      "Epoch 86/100\n",
      "36/36 - 0s - loss: 0.3100 - accuracy: 0.8270 - val_loss: 0.3340 - val_accuracy: 0.8098 - 159ms/epoch - 4ms/step\n",
      "Epoch 87/100\n",
      "36/36 - 0s - loss: 0.3107 - accuracy: 0.8215 - val_loss: 0.3369 - val_accuracy: 0.8076 - 159ms/epoch - 4ms/step\n",
      "Epoch 88/100\n",
      "36/36 - 0s - loss: 0.3104 - accuracy: 0.8282 - val_loss: 0.3282 - val_accuracy: 0.8188 - 129ms/epoch - 4ms/step\n",
      "Epoch 89/100\n",
      "36/36 - 0s - loss: 0.3063 - accuracy: 0.8273 - val_loss: 0.3285 - val_accuracy: 0.8188 - 161ms/epoch - 4ms/step\n",
      "Epoch 90/100\n",
      "36/36 - 0s - loss: 0.3091 - accuracy: 0.8301 - val_loss: 0.3279 - val_accuracy: 0.8255 - 145ms/epoch - 4ms/step\n",
      "Epoch 91/100\n",
      "36/36 - 0s - loss: 0.3073 - accuracy: 0.8276 - val_loss: 0.3249 - val_accuracy: 0.8233 - 140ms/epoch - 4ms/step\n",
      "Epoch 92/100\n",
      "36/36 - 0s - loss: 0.3090 - accuracy: 0.8296 - val_loss: 0.3270 - val_accuracy: 0.8143 - 132ms/epoch - 4ms/step\n",
      "Epoch 93/100\n",
      "36/36 - 0s - loss: 0.3146 - accuracy: 0.8248 - val_loss: 0.3214 - val_accuracy: 0.8166 - 162ms/epoch - 4ms/step\n",
      "Epoch 94/100\n",
      "36/36 - 0s - loss: 0.3066 - accuracy: 0.8298 - val_loss: 0.3213 - val_accuracy: 0.8255 - 143ms/epoch - 4ms/step\n",
      "Epoch 95/100\n",
      "36/36 - 0s - loss: 0.3075 - accuracy: 0.8259 - val_loss: 0.3204 - val_accuracy: 0.8322 - 185ms/epoch - 5ms/step\n",
      "Epoch 96/100\n",
      "36/36 - 0s - loss: 0.3068 - accuracy: 0.8318 - val_loss: 0.3513 - val_accuracy: 0.7942 - 148ms/epoch - 4ms/step\n",
      "Epoch 97/100\n",
      "36/36 - 0s - loss: 0.3076 - accuracy: 0.8270 - val_loss: 0.3223 - val_accuracy: 0.8277 - 137ms/epoch - 4ms/step\n",
      "Epoch 98/100\n",
      "36/36 - 0s - loss: 0.3062 - accuracy: 0.8290 - val_loss: 0.3240 - val_accuracy: 0.8166 - 134ms/epoch - 4ms/step\n",
      "Epoch 99/100\n",
      "36/36 - 0s - loss: 0.3058 - accuracy: 0.8287 - val_loss: 0.3279 - val_accuracy: 0.8210 - 151ms/epoch - 4ms/step\n",
      "Epoch 100/100\n",
      "36/36 - 0s - loss: 0.3085 - accuracy: 0.8279 - val_loss: 0.3317 - val_accuracy: 0.7987 - 136ms/epoch - 4ms/step\n"
     ]
    },
    {
     "data": {
      "text/plain": [
       "<keras.callbacks.History at 0x271eb626100>"
      ]
     },
     "execution_count": 25,
     "metadata": {},
     "output_type": "execute_result"
    }
   ],
   "source": [
    "input_size=10\n",
    "output_size=2\n",
    "hidden_layer_size=50\n",
    "\n",
    "model=tf.keras.Sequential([\n",
    "    tf.keras.layers.Dense(hidden_layer_size,activation='relu'),\n",
    "    tf.keras.layers.Dense(hidden_layer_size,activation='relu'),\n",
    "    tf.keras.layers.Dense(output_size,activation=\"softmax\")\n",
    "])\n",
    "\n",
    "model.compile(optimizer='adam',loss=\"sparse_categorical_crossentropy\", metrics=['accuracy'])\n",
    "\n",
    "batch_size=100\n",
    "max_epochs=100\n",
    "\n",
    "early_stopping=tf.keras.callbacks.EarlyStopping(patience=2)\n",
    "\n",
    "model.fit(train_inputs,\n",
    "        train_targets,\n",
    "        batch_size= batch_size,\n",
    "        epochs=max_epochs,\n",
    "        #callbacks=[early_stopping],\n",
    "        validation_data=(validation_inputs,validation_targets),\n",
    "        verbose=2)"
   ]
  },
  {
   "cell_type": "markdown",
   "metadata": {},
   "source": [
    "## Test Model"
   ]
  },
  {
   "cell_type": "code",
   "execution_count": 26,
   "metadata": {},
   "outputs": [
    {
     "name": "stdout",
     "output_type": "stream",
     "text": [
      "14/14 [==============================] - 0s 14ms/step - loss: 0.3066 - accuracy: 0.8237\n"
     ]
    }
   ],
   "source": [
    "test_loss, test_accuracy=model.evaluate(test_inputs,test_targets)"
   ]
  },
  {
   "cell_type": "code",
   "execution_count": 27,
   "metadata": {},
   "outputs": [
    {
     "name": "stdout",
     "output_type": "stream",
     "text": [
      "\n",
      " Test Loss:0.31. Test Accuracy : 82.37%\n"
     ]
    }
   ],
   "source": [
    "print('\\n Test Loss:{0:.2f}. Test Accuracy : {1:.2f}%'.format(test_loss,test_accuracy*100))"
   ]
  },
  {
   "cell_type": "code",
   "execution_count": null,
   "metadata": {},
   "outputs": [],
   "source": []
  }
 ],
 
 "metadata": {
  "kernelspec": {
   "display_name": "Python 3 (ipykernel)",
   "language": "python",
   "name": "python3"
  },
  "language_info": {
   "codemirror_mode": {
    "name": "ipython",
    "version": 3
   },
   "file_extension": ".py",
   "mimetype": "text/x-python",
   "name": "python",
   "nbconvert_exporter": "python",
   "pygments_lexer": "ipython3",
   "version": "3.9.13"
  }
 },
 "nbformat": 4,
 "nbformat_minor": 2
}
